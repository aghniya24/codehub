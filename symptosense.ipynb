{
 "cells": [
  {
   "cell_type": "code",
   "execution_count": null,
   "id": "2d290c8e-57bb-48a8-a51a-886260bd0910",
   "metadata": {},
   "outputs": [],
   "source": [
    "import pandas as pd\n",
    "import numpy as np\n",
    "import warnings\n",
    "warnings.filterwarnings(\"ignore\")\n",
    "from sklearn.preprocessing import LabelEncoder\n",
    "from sklearn.ensemble import RandomForestClassifier\n",
    "from sklearn.metrics import accuracy_score\n",
    "from sklearn.multioutput import MultiOutputClassifier\n",
    "from sklearn.preprocessing import MultiLabelBinarizer\n"
   ]
  },
  {
   "cell_type": "code",
   "execution_count": null,
   "id": "7f9bc3b5-d769-496d-ad4f-db0160d6f595",
   "metadata": {},
   "outputs": [
    {
     "name": "stdout",
     "output_type": "stream",
     "text": [
      "Data Loaded\n"
     ]
    }
   ],
   "source": [
    "train_df = pd.read_csv(\"Training.csv\")\n",
    "test_df = pd.read_csv(\"Testing.csv\")\n",
    "\n",
    "# Drop unnamed trash columns\n",
    "train_df = train_df.loc[:, ~train_df.columns.str.contains('^Unnamed')]\n",
    "test_df = test_df.loc[:, ~test_df.columns.str.contains('^Unnamed')]\n",
    "\n",
    "print(\"Data Loaded\")\n"
   ]
  },
  {
   "cell_type": "code",
   "execution_count": null,
   "id": "d16670c9-4073-4ea6-947a-020cf9c32f4c",
   "metadata": {},
   "outputs": [],
   "source": [
    "X_train = train_df.iloc[:, :-1]\n",
    "y_train = train_df[\"prognosis\"]\n",
    "\n",
    "X_test = test_df.iloc[:, :-1]\n",
    "y_test = test_df[\"prognosis\"]\n"
   ]
  },
  {
   "cell_type": "code",
   "execution_count": null,
   "id": "34bde099-98f1-402f-b8a0-c335a38638b2",
   "metadata": {},
   "outputs": [],
   "source": [
    "le = LabelEncoder()\n",
    "y_train_encoded = le.fit_transform(y_train)\n",
    "y_test_encoded = le.transform(y_test)\n"
   ]
  },
  {
   "cell_type": "code",
   "execution_count": null,
   "id": "1cfcb3a1-9946-4dd5-a3e4-5168dd6e7bde",
   "metadata": {},
   "outputs": [
    {
     "name": "stdout",
     "output_type": "stream",
     "text": [
      "Training completed\n"
     ]
    }
   ],
   "source": [
    "model = RandomForestClassifier(n_estimators=100, random_state=42)\n",
    "model.fit(X_train, y_train_encoded)\n",
    "\n",
    "print(\"Training completed\")\n"
   ]
  },
  {
   "cell_type": "code",
   "execution_count": null,
   "id": "ada9181f-fbd1-4b5f-bfad-ed4a9e7e8684",
   "metadata": {},
   "outputs": [
    {
     "name": "stdout",
     "output_type": "stream",
     "text": [
      "Model Accuracy: 97.62%\n"
     ]
    }
   ],
   "source": [
    "y_pred = model.predict(X_test)\n",
    "acc = accuracy_score(y_test_encoded, y_pred)\n",
    "\n",
    "print(f\"Model Accuracy: {acc * 100:.2f}%\")\n"
   ]
  },
  {
   "cell_type": "code",
   "execution_count": null,
   "id": "5a4adaf1-4ca4-46cb-bbda-a8bfbadec6b0",
   "metadata": {},
   "outputs": [],
   "source": [
    "symptoms_list = X_train.columns.tolist()\n"
   ]
  },
  {
   "cell_type": "code",
   "execution_count": null,
   "id": "60af5d3b-1407-4251-acf1-8ee374c047af",
   "metadata": {},
   "outputs": [],
   "source": [
    "def predict_disease(input_symptoms):\n",
    "    input_vector = [1 if symptom in input_symptoms else 0 for symptom in symptoms_list]\n",
    "    prediction = model.predict([input_vector])[0]\n",
    "    return le.inverse_transform([prediction])[0]\n"
   ]
  },
  {
   "cell_type": "code",
   "execution_count": null,
   "id": "745ee445-3f79-40d0-ac5b-5750fc1e8813",
   "metadata": {},
   "outputs": [],
   "source": [
    "remedy_db = {\n",
    "    \"(vertigo) Paroymsal  Positional Vertigo\": (\"Vestibular therapy, rest, avoid head tilts\", \"Low\"),\n",
    "    \"AIDS\": (\"Antiretroviral therapy, safe practices, regular monitoring\", \"Very High\"),\n",
    "    \"Acne\": (\"Topical creams, clean skin, avoid oily foods\", \"Low\"),\n",
    "    \"Alcoholic hepatitis\": (\"Stop alcohol, liver meds, consult hepatologist\", \"High\"),\n",
    "    \"Allergy\": (\"Antihistamines, avoid allergens, hydration\", \"Medium\"),\n",
    "    \"Arthritis\": (\"Pain relief, exercise, consult rheumatologist\", \"Medium\"),\n",
    "    \"Bronchial Asthma\": (\"Inhalers, avoid triggers, regular check-ups\", \"High\"),\n",
    "    \"Cervical spondylosis\": (\"Neck support, exercises, pain relief\", \"Medium\"),\n",
    "    \"Chicken pox\": (\"Rest, calamine lotion, avoid scratching\", \"Medium\"),\n",
    "    \"Chronic cholestasis\": (\"Medication for bile flow, avoid fatty food\", \"High\"),\n",
    "    \"Common Cold\": (\"Rest, fluids, steam inhalation\", \"Low\"),\n",
    "    \"Dengue\": (\"Fluids, platelet monitoring, consult doctor\", \"High\"),\n",
    "    \"Diabetes \": (\"Diet control, insulin or meds, check sugar levels\", \"High\"),\n",
    "    \"Dimorphic hemmorhoids(piles)\": (\"Fiber-rich diet, sitz baths, surgery if needed\", \"Medium\"),\n",
    "    \"Drug Reaction\": (\"Stop drug, emergency consult\", \"Very High\"),\n",
    "    \"Fungal infection\": (\"Antifungal creams, hygiene, loose clothes\", \"Low\"),\n",
    "    \"GERD\": (\"Avoid spicy food, antacids, upright posture\", \"Medium\"),\n",
    "    \"Gastroenteritis\": (\"Hydration, light meals, antiemetics\", \"Medium\"),\n",
    "    \"Heart attack\": (\"Emergency care, aspirin, call ambulance\", \"Very High\"),\n",
    "    \"Hepatitis A\": (\"Rest, hydration, avoid alcohol\", \"Medium\"),\n",
    "    \"Hepatitis B\": (\"Antivirals, liver care, specialist consultation\", \"High\"),\n",
    "    \"Hepatitis C\": (\"Antivirals, regular liver tests\", \"High\"),\n",
    "    \"Hepatitis D\": (\"Specialist treatment, avoid alcohol\", \"High\"),\n",
    "    \"Hepatitis E\": (\"Clean water, rest, light meals\", \"Medium\"),\n",
    "    \"Hypertension \": (\"Low salt diet, meds, BP monitoring\", \"High\"),\n",
    "    \"Hyperthyroidism\": (\"Beta blockers, thyroid meds\", \"High\"),\n",
    "    \"Hypoglycemia\": (\"Sugar intake, glucose tabs, emergency care\", \"Very High\"),\n",
    "    \"Hypothyroidism\": (\"Thyroxine tablets daily, check-ups\", \"High\"),\n",
    "    \"Impetigo\": (\"Topical antibiotics, hygiene\", \"Medium\"),\n",
    "    \"Jaundice\": (\"Avoid alcohol and fat, liver meds\", \"Medium\"),\n",
    "    \"Malaria\": (\"Antimalarial drugs, mosquito nets\", \"High\"),\n",
    "    \"Migraine\": (\"Pain relief, dark room, hydration\", \"Medium\"),\n",
    "    \"Osteoarthristis\": (\"Exercise, weight control, pain relief\", \"Medium\"),\n",
    "    \"Paralysis (brain hemorrhage)\": (\"Emergency hospitalization, neuro support\", \"Very High\"),\n",
    "    \"Peptic ulcer diseae\": (\"Antacids, avoid NSAIDs, consult gastro\", \"Medium\"),\n",
    "    \"Pneumonia\": (\"Antibiotics, rest, fluids\", \"High\"),\n",
    "    \"Psoriasis\": (\"Topical creams, UV therapy, moisturizers\", \"Medium\"),\n",
    "    \"Tuberculosis\": (\"6-month full treatment, mask use\", \"Very High\"),\n",
    "    \"Typhoid\": (\"Antibiotics, soft diet, hygiene\", \"High\"),\n",
    "    \"Urinary tract infection\": (\"Antibiotics, hydration, hygiene\", \"Medium\"),\n",
    "    \"Varicose veins\": (\"Compression stockings, leg elevation\", \"Medium\")\n",
    "}\n"
   ]
  },
  {
   "cell_type": "code",
   "execution_count": null,
   "id": "6b152e5e-9d82-4721-8983-841c18b40ccc",
   "metadata": {},
   "outputs": [],
   "source": [
    "def get_recommendation(disease):\n",
    "    return remedy_db.get(\n",
    "        disease,\n",
    "        (\"Consult a healthcare provider for accurate diagnosis and treatment.\", \"Medium\")\n",
    "    )\n"
   ]
  },
  {
   "cell_type": "code",
   "execution_count": null,
   "id": "fe09a872-1d7f-4156-816b-5f3a3a4c227b",
   "metadata": {},
   "outputs": [],
   "source": [
    "def suggest_symptoms(partial_input):\n",
    "    matches = [symptom for symptom in symptoms_list if partial_input.lower() in symptom.lower()]\n",
    "    return matches\n"
   ]
  },
  {
   "cell_type": "code",
   "execution_count": null,
   "id": "6dbc7730-e27c-43a7-8566-cdc4709a5951",
   "metadata": {},
   "outputs": [
    {
     "name": "stdout",
     "output_type": "stream",
     "text": [
      "Multi-label model trained\n"
     ]
    }
   ],
   "source": [
    "mlb = MultiLabelBinarizer()\n",
    "\n",
    "y_train_multilabel = mlb.fit_transform([[d] for d in y_train])\n",
    "y_test_multilabel = mlb.transform([[d] for d in y_test])\n",
    "\n",
    "multi_model = MultiOutputClassifier(RandomForestClassifier(n_estimators=100, random_state=42))\n",
    "multi_model.fit(X_train, y_train_multilabel)\n",
    "\n",
    "print(\"Multi-label model trained\")\n"
   ]
  },
  {
   "cell_type": "code",
   "execution_count": null,
   "id": "39554e78-1616-449f-b116-1c0ab8b4850e",
   "metadata": {},
   "outputs": [],
   "source": [
    "def predict_possible_diseases(input_symptoms):\n",
    "    input_vector = [1 if symptom in input_symptoms else 0 for symptom in symptoms_list]\n",
    "    input_vector = np.array(input_vector).reshape(1, -1)\n",
    "\n",
    "    probabilities = model.predict_proba(input_vector)[0]\n",
    "    threshold = 0.1  \n",
    "\n",
    "    probable_indices = [i for i, prob in enumerate(probabilities) if prob >= threshold]\n",
    "    possible_diseases = le.inverse_transform(probable_indices)\n",
    "\n",
    "    return list(possible_diseases)\n"
   ]
  },
  {
   "cell_type": "code",
   "execution_count": null,
   "id": "fbadab98-773a-44d6-a572-79c7e66cc985",
   "metadata": {},
   "outputs": [],
   "source": [
    "partial = input(\"Type a symptom (or part of it): \")\n",
    "suggestions = suggest_symptoms(partial)\n",
    "\n",
    "print(\"Suggested symptoms:\")\n",
    "for s in suggestions:\n",
    "    print(\" -\", s)\n"
   ]
  },
  {
   "cell_type": "code",
   "execution_count": null,
   "id": "5b8cbe0f-09c6-467e-8712-221130dad277",
   "metadata": {},
   "outputs": [
    {
     "data": {
      "image/png": "[encoded data removed]",
      "text/plain": [
       "<Figure size 1000x600 with 1 Axes>"
      ]
     },
     "metadata": {},
     "output_type": "display_data"
    }
   ],
   "source": [
    "import matplotlib.pyplot as plt\n",
    "\n",
    "# Assign numeric values to urgency levels for plotting\n",
    "urgency_levels = {\n",
    "    \"Low\": 1,\n",
    "    \"Medium\": 2,\n",
    "    \"High\": 3,\n",
    "    \"Very High\": 4\n",
    "}\n",
    "\n",
    "# Run prediction\n",
    "input_symptoms = [\"cough\", \"fever\", \"headache\"]\n",
    "matches = predict_possible_diseases(input_symptoms)\n",
    "\n",
    "disease_names = []\n",
    "urgency_values = []\n",
    "urgency_colors = []\n",
    "\n",
    "urgency_color_map = {\n",
    "    \"Low\": \"green\",\n",
    "    \"Medium\": \"gold\",\n",
    "    \"High\": \"orange\",\n",
    "    \"Very High\": \"red\"\n",
    "}\n",
    "\n",
    "# Collect data\n",
    "for dis in matches:\n",
    "    remedy, urgency = get_recommendation(dis)\n",
    "    disease_names.append(dis)\n",
    "    urgency_values.append(urgency_levels.get(urgency, 0))\n",
    "    urgency_colors.append(urgency_color_map.get(urgency, \"gray\"))\n",
    "\n",
    "# Plot\n",
    "plt.figure(figsize=(10, 6))\n",
    "bars = plt.barh(disease_names, urgency_values, color=urgency_colors)\n",
    "plt.xlabel(\"Urgency Level\")\n",
    "plt.title(\"💉 Possible Diseases and Their Urgency (Symptoms-Based)\")\n",
    "plt.yticks(fontsize=10)\n",
    "plt.xticks([1, 2, 3, 4], [\"Low\", \"Medium\", \"High\", \"Very High\"])\n",
    "plt.grid(axis='x', linestyle='--', alpha=0.6)\n",
    "\n",
    "# Label each bar with the remedy\n",
    "for i, bar in enumerate(bars):\n",
    "    remedy, _ = get_recommendation(disease_names[i])\n",
    "    plt.text(bar.get_width() + 0.1, bar.get_y() + bar.get_height()/2,\n",
    "             f\"{remedy}\", va='center', fontsize=8)\n",
    "\n",
    "plt.tight_layout()\n",
    "plt.show()\n",
    "\n"
   ]
  },
  {
   "cell_type": "code",
   "execution_count": null,
   "id": "ea435495-8283-4b00-a2a2-c4de0c4a95f8",
   "metadata": {},
   "outputs": [],
   "source": []
  }
 ],
 "metadata": {
  "kernelspec": {
   "display_name": "Python [conda env:base] *",
   "language": "python",
   "name": "conda-base-py"
  },
  "language_info": {
   "codemirror_mode": {
    "name": "ipython",
    "version": 3
   },
   "file_extension": ".py",
   "mimetype": "text/x-python",
   "name": "python",
   "nbconvert_exporter": "python",
   "pygments_lexer": "ipython3",
   "version": "3.12.7"
  }
 },
 "nbformat": 4,
 "nbformat_minor": 5
}
